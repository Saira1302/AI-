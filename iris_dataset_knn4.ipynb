{
  "nbformat": 4,
  "nbformat_minor": 0,
  "metadata": {
    "colab": {
      "provenance": [],
      "gpuType": "T4"
    },
    "kernelspec": {
      "name": "python3",
      "display_name": "Python 3"
    },
    "language_info": {
      "name": "python"
    },
    "accelerator": "GPU"
  },
  "cells": [
    {
      "cell_type": "code",
      "execution_count": 16,
      "metadata": {
        "id": "6zZgIjr6y46w",
        "colab": {
          "base_uri": "https://localhost:8080/"
        },
        "outputId": "ab8ce154-c307-4c24-cfe6-7b0ede30e43e"
      },
      "outputs": [
        {
          "output_type": "stream",
          "name": "stdout",
          "text": [
            "   sepal_length  sepal_width  petal_length  petal_width species\n",
            "0           5.1          3.5           1.4          0.2  setosa\n",
            "1           4.9          3.0           1.4          0.2  setosa\n",
            "2           4.7          3.2           1.3          0.2  setosa\n",
            "3           4.6          3.1           1.5          0.2  setosa\n",
            "4           5.0          3.6           1.4          0.2  setosa\n"
          ]
        }
      ],
      "source": [
        "import pandas as pd\n",
        "\n",
        "# Load the dataset\n",
        "df = pd.read_csv('iris.csv')\n",
        "\n",
        "# View the first few rows\n",
        "print(df.head())\n"
      ]
    },
    {
      "cell_type": "code",
      "source": [
        "from sklearn.preprocessing import StandardScaler\n",
        "\n",
        "# Separate features (X) and target variable (y)\n",
        "X = df[['sepal_length', 'sepal_width', 'petal_length']]  # Replace with your feature column names\n",
        "y = df['petal_width']  # Replace with your target column name\n",
        "\n",
        "# Normalize features\n",
        "scaler = StandardScaler()\n",
        "X_normalized = scaler.fit_transform(X)\n"
      ],
      "metadata": {
        "id": "V2TNdczh0ZMV"
      },
      "execution_count": 17,
      "outputs": []
    },
    {
      "cell_type": "code",
      "source": [
        "from sklearn.model_selection import train_test_split\n",
        "\n",
        "X_train, X_test, y_train, y_test = train_test_split(X_normalized, y, test_size=0.2, random_state=42)\n"
      ],
      "metadata": {
        "id": "kgT1sAQp0brg"
      },
      "execution_count": 18,
      "outputs": []
    },
    {
      "source": [
        "from sklearn.neighbors import KNeighborsRegressor\n",
        "from sklearn.metrics import mean_squared_error\n",
        "\n",
        "\n",
        "\n",
        "knn = KNeighborsRegressor(n_neighbors=3)\n",
        "\n",
        "knn.fit(X_train, y_train)\n",
        "\n",
        "\n",
        "y_pred = knn.predict(X_test)\n",
        "mse = mean_squared_error(y_test, y_pred)\n",
        "print(f\"Mean Squared Error: {mse}\")"
      ],
      "cell_type": "code",
      "metadata": {
        "colab": {
          "base_uri": "https://localhost:8080/"
        },
        "id": "eln-WWqU3cNH",
        "outputId": "eb2bd656-6d71-4461-c283-5d9e0c9c3623"
      },
      "execution_count": 20,
      "outputs": [
        {
          "output_type": "stream",
          "name": "stdout",
          "text": [
            "Mean Squared Error: 0.054333333333333324\n"
          ]
        }
      ]
    },
    {
      "source": [
        "from sklearn.metrics import mean_squared_error, r2_score\n",
        "\n",
        "\n",
        "y_pred = knn.predict(X_test)\n",
        "\n",
        "# Use appropriate regression metrics\n",
        "mse = mean_squared_error(y_test, y_pred)\n",
        "r2 = r2_score(y_test, y_pred)\n",
        "\n",
        "print(f\"Mean Squared Error: {mse}\")\n",
        "print(f\"R-squared: {r2}\")"
      ],
      "cell_type": "code",
      "metadata": {
        "colab": {
          "base_uri": "https://localhost:8080/"
        },
        "id": "ZPtqAGWI3vjy",
        "outputId": "f515748f-f31e-4814-a896-b34bace0f73a"
      },
      "execution_count": 22,
      "outputs": [
        {
          "output_type": "stream",
          "name": "stdout",
          "text": [
            "Mean Squared Error: 0.054333333333333324\n",
            "R-squared: 0.9145239385411387\n"
          ]
        }
      ]
    },
    {
      "cell_type": "code",
      "source": [
        "from sklearn.metrics import mean_squared_error\n",
        "\n",
        "# Evaluate the regressor\n",
        "mse = mean_squared_error(y_test, y_pred)\n",
        "\n",
        "print(f\"Mean Squared Error: {mse}\")\n"
      ],
      "metadata": {
        "colab": {
          "base_uri": "https://localhost:8080/"
        },
        "id": "03xHWXTS3-8n",
        "outputId": "02563921-0b70-41af-fe39-6b6dc326f075"
      },
      "execution_count": 23,
      "outputs": [
        {
          "output_type": "stream",
          "name": "stdout",
          "text": [
            "Mean Squared Error: 0.054333333333333324\n"
          ]
        }
      ]
    },
    {
      "source": [
        "# Try different values of k\n",
        "for k in range(1, 11):\n",
        "    knn = KNeighborsRegressor(n_neighbors=k) # Changed from KNeighborsClassifier to KNeighborsRegressor\n",
        "    knn.fit(X_train, y_train)\n",
        "    score = knn.score(X_test, y_test) # This will now calculate the R^2 score, suitable for regression\n",
        "    print(f\"k={k}, R-squared={score}\") # Changed 'Accuracy' to 'R-squared'"
      ],
      "cell_type": "code",
      "metadata": {
        "colab": {
          "base_uri": "https://localhost:8080/"
        },
        "id": "8XOjxHcs4LnE",
        "outputId": "df035854-15ef-4054-f2c3-0a27d5885b73"
      },
      "execution_count": 25,
      "outputs": [
        {
          "output_type": "stream",
          "name": "stdout",
          "text": [
            "k=1, R-squared=0.8804383925606112\n",
            "k=2, R-squared=0.9107220891817721\n",
            "k=3, R-squared=0.9145239385411387\n",
            "k=4, R-squared=0.9142945165970389\n",
            "k=5, R-squared=0.9253474103724939\n",
            "k=6, R-squared=0.9226520302749568\n",
            "k=7, R-squared=0.9294530866236617\n",
            "k=8, R-squared=0.9228322903738923\n",
            "k=9, R-squared=0.9190945739565712\n",
            "k=10, R-squared=0.9182943243196001\n"
          ]
        }
      ]
    },
    {
      "source": [
        "import matplotlib.pyplot as plt\n",
        "#from sklearn.metrics import confusion_matrix, ConfusionMatrixDisplay # Remove this import as it's not needed\n",
        "\n",
        "# Assuming 'knn' is your KNeighborsRegressor object\n",
        "\n",
        "# Instead of confusion matrix, visualize predictions vs actual values\n",
        "plt.scatter(y_test, y_pred)\n",
        "plt.xlabel(\"Actual Petal Width\")\n",
        "plt.ylabel(\"Predicted Petal Width\")\n",
        "plt.title(\"Actual vs. Predicted Petal Width\")\n",
        "plt.show()"
      ],
      "cell_type": "code",
      "metadata": {
        "colab": {
          "base_uri": "https://localhost:8080/",
          "height": 472
        },
        "id": "I3syld2Q4kh5",
        "outputId": "9c048e56-1a1a-41fa-f82f-5bf7687727f3"
      },
      "execution_count": 28,
      "outputs": [
        {
          "output_type": "display_data",
          "data": {
            "text/plain": [
              "<Figure size 640x480 with 1 Axes>"
            ],
            "image/png": "[encoded data removed]"
          },
          "metadata": {}
        }
      ]
    }
  ]
}