{
  "nbformat": 4,
  "nbformat_minor": 0,
  "metadata": {
    "colab": {
      "provenance": []
    },
    "kernelspec": {
      "name": "python3",
      "display_name": "Python 3"
    },
    "language_info": {
      "name": "python"
    }
  },
  "cells": [
    {
      "cell_type": "code",
      "execution_count": null,
      "metadata": {
        "id": "ewvaDce_9jkz"
      },
      "outputs": [],
      "source": [
        "#install kaggl\n",
        "!pip install -q kaggle\n"
      ]
    },
    {
      "cell_type": "code",
      "source": [
        "#to import files\n",
        "from google.colab import files\n",
        "files.upload()\n"
      ],
      "metadata": {
        "colab": {
          "base_uri": "https://localhost:8080/",
          "height": 90
        },
        "id": "14Y20N2_9pmr",
        "outputId": "f0f2c8ce-fb8a-473e-acd7-048b2de625b3"
      },
      "execution_count": null,
      "outputs": [
        {
          "output_type": "display_data",
          "data": {
            "text/plain": [
              "<IPython.core.display.HTML object>"
            ],
            "text/html": [
              "\n",
              "     <input type=\"file\" id=\"files-ec94d28b-50b7-43a6-906a-dd260861e2be\" name=\"files[]\" multiple disabled\n",
              "        style=\"border:none\" />\n",
              "     <output id=\"result-ec94d28b-50b7-43a6-906a-dd260861e2be\">\n",
              "      Upload widget is only available when the cell has been executed in the\n",
              "      current browser session. Please rerun this cell to enable.\n",
              "      </output>\n",
              "      <script>// Copyright 2017 Google LLC\n",
              "//\n",
              "// Licensed under the Apache License, Version 2.0 (the \"License\");\n",
              "// you may not use this file except in compliance with the License.\n",
              "// You may obtain a copy of the License at\n",
              "//\n",
              "//      http://www.apache.org/licenses/LICENSE-2.0\n",
              "//\n",
              "// Unless required by applicable law or agreed to in writing, software\n",
              "// distributed under the License is distributed on an \"AS IS\" BASIS,\n",
              "// WITHOUT WARRANTIES OR CONDITIONS OF ANY KIND, either express or implied.\n",
              "// See the License for the specific language governing permissions and\n",
              "// limitations under the License.\n",
              "\n",
              "/**\n",
              " * @fileoverview Helpers for google.colab Python module.\n",
              " */\n",
              "(function(scope) {\n",
              "function span(text, styleAttributes = {}) {\n",
              "  const element = document.createElement('span');\n",
              "  element.textContent = text;\n",
              "  for (const key of Object.keys(styleAttributes)) {\n",
              "    element.style[key] = styleAttributes[key];\n",
              "  }\n",
              "  return element;\n",
              "}\n",
              "\n",
              "// Max number of bytes which will be uploaded at a time.\n",
              "const MAX_PAYLOAD_SIZE = 100 * 1024;\n",
              "\n",
              "function _uploadFiles(inputId, outputId) {\n",
              "  const steps = uploadFilesStep(inputId, outputId);\n",
              "  const outputElement = document.getElementById(outputId);\n",
              "  // Cache steps on the outputElement to make it available for the next call\n",
              "  // to uploadFilesContinue from Python.\n",
              "  outputElement.steps = steps;\n",
              "\n",
              "  return _uploadFilesContinue(outputId);\n",
              "}\n",
              "\n",
              "// This is roughly an async generator (not supported in the browser yet),\n",
              "// where there are multiple asynchronous steps and the Python side is going\n",
              "// to poll for completion of each step.\n",
              "// This uses a Promise to block the python side on completion of each step,\n",
              "// then passes the result of the previous step as the input to the next step.\n",
              "function _uploadFilesContinue(outputId) {\n",
              "  const outputElement = document.getElementById(outputId);\n",
              "  const steps = outputElement.steps;\n",
              "\n",
              "  const next = steps.next(outputElement.lastPromiseValue);\n",
              "  return Promise.resolve(next.value.promise).then((value) => {\n",
              "    // Cache the last promise value to make it available to the next\n",
              "    // step of the generator.\n",
              "    outputElement.lastPromiseValue = value;\n",
              "    return next.value.response;\n",
              "  });\n",
              "}\n",
              "\n",
              "/**\n",
              " * Generator function which is called between each async step of the upload\n",
              " * process.\n",
              " * @param {string} inputId Element ID of the input file picker element.\n",
              " * @param {string} outputId Element ID of the output display.\n",
              " * @return {!Iterable<!Object>} Iterable of next steps.\n",
              " */\n",
              "function* uploadFilesStep(inputId, outputId) {\n",
              "  const inputElement = document.getElementById(inputId);\n",
              "  inputElement.disabled = false;\n",
              "\n",
              "  const outputElement = document.getElementById(outputId);\n",
              "  outputElement.innerHTML = '';\n",
              "\n",
              "  const pickedPromise = new Promise((resolve) => {\n",
              "    inputElement.addEventListener('change', (e) => {\n",
              "      resolve(e.target.files);\n",
              "    });\n",
              "  });\n",
              "\n",
              "  const cancel = document.createElement('button');\n",
              "  inputElement.parentElement.appendChild(cancel);\n",
              "  cancel.textContent = 'Cancel upload';\n",
              "  const cancelPromise = new Promise((resolve) => {\n",
              "    cancel.onclick = () => {\n",
              "      resolve(null);\n",
              "    };\n",
              "  });\n",
              "\n",
              "  // Wait for the user to pick the files.\n",
              "  const files = yield {\n",
              "    promise: Promise.race([pickedPromise, cancelPromise]),\n",
              "    response: {\n",
              "      action: 'starting',\n",
              "    }\n",
              "  };\n",
              "\n",
              "  cancel.remove();\n",
              "\n",
              "  // Disable the input element since further picks are not allowed.\n",
              "  inputElement.disabled = true;\n",
              "\n",
              "  if (!files) {\n",
              "    return {\n",
              "      response: {\n",
              "        action: 'complete',\n",
              "      }\n",
              "    };\n",
              "  }\n",
              "\n",
              "  for (const file of files) {\n",
              "    const li = document.createElement('li');\n",
              "    li.append(span(file.name, {fontWeight: 'bold'}));\n",
              "    li.append(span(\n",
              "        `(${file.type || 'n/a'}) - ${file.size} bytes, ` +\n",
              "        `last modified: ${\n",
              "            file.lastModifiedDate ? file.lastModifiedDate.toLocaleDateString() :\n",
              "                                    'n/a'} - `));\n",
              "    const percent = span('0% done');\n",
              "    li.appendChild(percent);\n",
              "\n",
              "    outputElement.appendChild(li);\n",
              "\n",
              "    const fileDataPromise = new Promise((resolve) => {\n",
              "      const reader = new FileReader();\n",
              "      reader.onload = (e) => {\n",
              "        resolve(e.target.result);\n",
              "      };\n",
              "      reader.readAsArrayBuffer(file);\n",
              "    });\n",
              "    // Wait for the data to be ready.\n",
              "    let fileData = yield {\n",
              "      promise: fileDataPromise,\n",
              "      response: {\n",
              "        action: 'continue',\n",
              "      }\n",
              "    };\n",
              "\n",
              "    // Use a chunked sending to avoid message size limits. See b/62115660.\n",
              "    let position = 0;\n",
              "    do {\n",
              "      const length = Math.min(fileData.byteLength - position, MAX_PAYLOAD_SIZE);\n",
              "      const chunk = new Uint8Array(fileData, position, length);\n",
              "      position += length;\n",
              "\n",
              "      const base64 = btoa(String.fromCharCode.apply(null, chunk));\n",
              "      yield {\n",
              "        response: {\n",
              "          action: 'append',\n",
              "          file: file.name,\n",
              "          data: base64,\n",
              "        },\n",
              "      };\n",
              "\n",
              "      let percentDone = fileData.byteLength === 0 ?\n",
              "          100 :\n",
              "          Math.round((position / fileData.byteLength) * 100);\n",
              "      percent.textContent = `${percentDone}% done`;\n",
              "\n",
              "    } while (position < fileData.byteLength);\n",
              "  }\n",
              "\n",
              "  // All done.\n",
              "  yield {\n",
              "    response: {\n",
              "      action: 'complete',\n",
              "    }\n",
              "  };\n",
              "}\n",
              "\n",
              "scope.google = scope.google || {};\n",
              "scope.google.colab = scope.google.colab || {};\n",
              "scope.google.colab._files = {\n",
              "  _uploadFiles,\n",
              "  _uploadFilesContinue,\n",
              "};\n",
              "})(self);\n",
              "</script> "
            ]
          },
          "metadata": {}
        },
        {
          "output_type": "stream",
          "name": "stdout",
          "text": [
            "Saving kaggle.json to kaggle.json\n"
          ]
        },
        {
          "output_type": "execute_result",
          "data": {
            "text/plain": [
              "{'kaggle.json': b'{\"username\":\"sairabano11\",\"key\":\"67f7d47489d2714080e5e2695886c991\"}'}"
            ]
          },
          "metadata": {},
          "execution_count": 2
        }
      ]
    },
    {
      "cell_type": "code",
      "source": [
        "\n",
        "#create a kaggle folder\n",
        "! mkdir ~/.kaggle\n"
      ],
      "metadata": {
        "id": "HQDNyrUT9sai"
      },
      "execution_count": null,
      "outputs": []
    },
    {
      "cell_type": "code",
      "source": [
        "\n",
        "# open the  kaggle json to folder created\n",
        "! cp kaggle.json ~/.kaggle/\n"
      ],
      "metadata": {
        "id": "4no4aFEB9zPi"
      },
      "execution_count": null,
      "outputs": []
    },
    {
      "cell_type": "code",
      "source": [
        "\n",
        "# grant permission to json file to act\n",
        "! chmod 100 ~/.kaggle/kaggle.json\n"
      ],
      "metadata": {
        "id": "PqSjXKUw92CY"
      },
      "execution_count": null,
      "outputs": []
    },
    {
      "cell_type": "code",
      "source": [
        "# to list all the data set in kaggle\n",
        "! kaggle datasets list\n"
      ],
      "metadata": {
        "colab": {
          "base_uri": "https://localhost:8080/"
        },
        "id": "9yIN-VaJ94qW",
        "outputId": "db262dd1-7cb1-4a17-b150-5b600d800ecc"
      },
      "execution_count": null,
      "outputs": [
        {
          "output_type": "stream",
          "name": "stdout",
          "text": [
            "ref                                                              title                                                size  lastUpdated          downloadCount  voteCount  usabilityRating  \n",
            "---------------------------------------------------------------  --------------------------------------------------  -----  -------------------  -------------  ---------  ---------------  \n",
            "lainguyn123/student-performance-factors                          Student Performance Factors                          94KB  2024-09-02 10:53:57           8858        193  1.0              \n",
            "prokshitha/home-value-insights                                   House Price Regression Dataset                       26KB  2024-09-06 15:15:12           1088         33  1.0              \n",
            "hanaksoy/customer-purchasing-behaviors                           Customer Purchasing Behaviors                         1KB  2024-09-01 22:18:07           4574         64  1.0              \n",
            "hanaksoy/health-and-sleep-statistics                             Health and sleep statistics                           1KB  2024-09-09 16:08:44           1786         29  1.0              \n",
            "ironwolf404/laptop-price-dataset                                 Laptop Price - dataset                               25KB  2024-09-02 18:11:19           1761         27  1.0              \n",
            "haseebindata/student-performance-predictions                     Student Performance Predictions                       9KB  2024-08-17 06:57:57          12634        266  0.9411765        \n",
            "abdullah0a/retail-sales-data-with-seasonal-trends-and-marketing  Retail Sales Data with Seasonal Trends & Marketing  610KB  2024-09-18 16:15:46           2630         47  0.8235294        \n",
            "muhammadehsan02/top-1000-wealthiest-people-in-the-world          Top 1000 Wealthiest People in the World               8KB  2024-09-01 17:29:49            997         22  1.0              \n",
            "computingvictor/2024-academic-ranking-of-world-universities      🥇 Top Universities Ranking 2024                      19KB  2024-08-20 11:54:54           2532         45  1.0              \n",
            "alicemtopcu/top-1500-games-on-steam-by-revenue-09-09-2024        Top 1500 games on steam by revenue  09-09-2024       83KB  2024-09-11 10:12:35            580         22  1.0              \n",
            "waqi786/climate-change-impact-on-agriculture                     🌍 Climate Change Impact on Agriculture 🌱            327KB  2024-09-06 13:25:59           2470         45  1.0              \n",
            "uom190346a/ai-powered-job-market-insights                        AI-Powered Job Market Insights                       10KB  2024-08-26 05:55:43           4871         87  1.0              \n",
            "mrmars1010/restaurants-dataset-bengaluru                         Bengaluru Restaurants dataset                       792KB  2024-09-16 10:02:28            329         27  1.0              \n",
            "suvroo/amazon-ml-challenge                                       Amazon ML Challenge 2024 Dataset                      5MB  2024-09-13 10:54:18            277         64  0.88235295       \n",
            "sudhanvahg/wind-turbine-power-generation-forecasting             Wind Turbine Power Generation Forecasting             4MB  2024-09-16 11:19:37            519         25  1.0              \n",
            "muhammadehsan02/126-years-of-historical-olympic-dataset          126 Years of Historical Olympic Dataset              27MB  2024-08-27 12:51:57           2064         46  1.0              \n",
            "jocelyndumlao/chatbots-impact-on-university-learning             Chatbots'  Impact on University Learning            599KB  2024-09-02 09:51:49            915         30  1.0              \n",
            "abdullah0a/urban-air-quality-and-health-impact-dataset           Urban Air Quality and Health Impact Analysis        254KB  2024-09-07 18:29:41           1463         27  1.0              \n",
            "iamtapendu/crop-production-data-india                            Crop Production Data India                            2MB  2024-08-30 04:58:46            773         22  0.8235294        \n",
            "owm4096/laptop-prices                                            Laptop Prices                                        25KB  2024-09-09 12:43:01           1184         22  1.0              \n"
          ]
        }
      ]
    },
    {
      "cell_type": "code",
      "source": [
        "#go to the kaggle and then data get a link from there and paste\n",
        "!kaggle datasets download -d kashifsahil/16000-movies-1910-2024-metacritic\n"
      ],
      "metadata": {
        "colab": {
          "base_uri": "https://localhost:8080/"
        },
        "id": "TPyrIDFx9_tn",
        "outputId": "745f6e4b-66f9-4d94-f0ce-5550ff5592a2"
      },
      "execution_count": null,
      "outputs": [
        {
          "output_type": "stream",
          "name": "stdout",
          "text": [
            "Dataset URL: https://www.kaggle.com/datasets/kashifsahil/16000-movies-1910-2024-metacritic\n",
            "License(s): CC0-1.0\n",
            "Downloading 16000-movies-1910-2024-metacritic.zip to /content\n",
            "  0% 0.00/3.16M [00:00<?, ?B/s]\n",
            "100% 3.16M/3.16M [00:00<00:00, 195MB/s]\n"
          ]
        }
      ]
    },
    {
      "cell_type": "code",
      "source": [
        "#unzip the files:\n",
        "! unzip 16000-movies-1910-2024-metacritic.zip\n"
      ],
      "metadata": {
        "colab": {
          "base_uri": "https://localhost:8080/"
        },
        "id": "mnxty0rf-IKe",
        "outputId": "f848528a-d85d-4ded-a328-e7a67a79d216"
      },
      "execution_count": null,
      "outputs": [
        {
          "output_type": "stream",
          "name": "stdout",
          "text": [
            "Archive:  16000-movies-1910-2024-metacritic.zip\n",
            "  inflating: 16k_Movies.csv          \n"
          ]
        }
      ]
    },
    {
      "cell_type": "code",
      "source": [
        "import pandas as pd"
      ],
      "metadata": {
        "id": "XSkKjfaw-Vnl"
      },
      "execution_count": null,
      "outputs": []
    },
    {
      "cell_type": "code",
      "source": [
        "df = pd.read_csv('16k_Movies.csv')"
      ],
      "metadata": {
        "id": "RxM7AunH-ZCi"
      },
      "execution_count": null,
      "outputs": []
    },
    {
      "cell_type": "code",
      "source": [],
      "metadata": {
        "id": "KJ6Wa2_S-gQ2"
      },
      "execution_count": null,
      "outputs": []
    }
  ]
}