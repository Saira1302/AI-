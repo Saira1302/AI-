{
  "nbformat": 4,
  "nbformat_minor": 0,
  "metadata": {
    "colab": {
      "provenance": []
    },
    "kernelspec": {
      "name": "python3",
      "display_name": "Python 3"
    },
    "language_info": {
      "name": "python"
    }
  },
  "cells": [
    {
      "cell_type": "code",
      "execution_count": null,
      "metadata": {
        "id": "SEcMwHl376Uq"
      },
      "outputs": [],
      "source": [
        "#install kaggl\n",
        "!pip install -q kaggle\n"
      ]
    },
    {
      "cell_type": "code",
      "source": [
        "#to import files\n",
        "from google.colab import files\n",
        "files.upload()\n"
      ],
      "metadata": {
        "colab": {
          "base_uri": "https://localhost:8080/",
          "height": 90
        },
        "id": "8H19U6228awZ",
        "outputId": "1d0d2d6f-d537-460f-a5e0-157e2d183423"
      },
      "execution_count": null,
      "outputs": [
        {
          "output_type": "display_data",
          "data": {
            "text/plain": [
              "<IPython.core.display.HTML object>"
            ],
            "text/html": [
              "\n",
              "     <input type=\"file\" id=\"files-d09fef6d-2fa5-4a53-a072-c33f7979e839\" name=\"files[]\" multiple disabled\n",
              "        style=\"border:none\" />\n",
              "     <output id=\"result-d09fef6d-2fa5-4a53-a072-c33f7979e839\">\n",
              "      Upload widget is only available when the cell has been executed in the\n",
              "      current browser session. Please rerun this cell to enable.\n",
              "      </output>\n",
              "      <script>// Copyright 2017 Google LLC\n",
              "//\n",
              "// Licensed under the Apache License, Version 2.0 (the \"License\");\n",
              "// you may not use this file except in compliance with the License.\n",
              "// You may obtain a copy of the License at\n",
              "//\n",
              "//      http://www.apache.org/licenses/LICENSE-2.0\n",
              "//\n",
              "// Unless required by applicable law or agreed to in writing, software\n",
              "// distributed under the License is distributed on an \"AS IS\" BASIS,\n",
              "// WITHOUT WARRANTIES OR CONDITIONS OF ANY KIND, either express or implied.\n",
              "// See the License for the specific language governing permissions and\n",
              "// limitations under the License.\n",
              "\n",
              "/**\n",
              " * @fileoverview Helpers for google.colab Python module.\n",
              " */\n",
              "(function(scope) {\n",
              "function span(text, styleAttributes = {}) {\n",
              "  const element = document.createElement('span');\n",
              "  element.textContent = text;\n",
              "  for (const key of Object.keys(styleAttributes)) {\n",
              "    element.style[key] = styleAttributes[key];\n",
              "  }\n",
              "  return element;\n",
              "}\n",
              "\n",
              "// Max number of bytes which will be uploaded at a time.\n",
              "const MAX_PAYLOAD_SIZE = 100 * 1024;\n",
              "\n",
              "function _uploadFiles(inputId, outputId) {\n",
              "  const steps = uploadFilesStep(inputId, outputId);\n",
              "  const outputElement = document.getElementById(outputId);\n",
              "  // Cache steps on the outputElement to make it available for the next call\n",
              "  // to uploadFilesContinue from Python.\n",
              "  outputElement.steps = steps;\n",
              "\n",
              "  return _uploadFilesContinue(outputId);\n",
              "}\n",
              "\n",
              "// This is roughly an async generator (not supported in the browser yet),\n",
              "// where there are multiple asynchronous steps and the Python side is going\n",
              "// to poll for completion of each step.\n",
              "// This uses a Promise to block the python side on completion of each step,\n",
              "// then passes the result of the previous step as the input to the next step.\n",
              "function _uploadFilesContinue(outputId) {\n",
              "  const outputElement = document.getElementById(outputId);\n",
              "  const steps = outputElement.steps;\n",
              "\n",
              "  const next = steps.next(outputElement.lastPromiseValue);\n",
              "  return Promise.resolve(next.value.promise).then((value) => {\n",
              "    // Cache the last promise value to make it available to the next\n",
              "    // step of the generator.\n",
              "    outputElement.lastPromiseValue = value;\n",
              "    return next.value.response;\n",
              "  });\n",
              "}\n",
              "\n",
              "/**\n",
              " * Generator function which is called between each async step of the upload\n",
              " * process.\n",
              " * @param {string} inputId Element ID of the input file picker element.\n",
              " * @param {string} outputId Element ID of the output display.\n",
              " * @return {!Iterable<!Object>} Iterable of next steps.\n",
              " */\n",
              "function* uploadFilesStep(inputId, outputId) {\n",
              "  const inputElement = document.getElementById(inputId);\n",
              "  inputElement.disabled = false;\n",
              "\n",
              "  const outputElement = document.getElementById(outputId);\n",
              "  outputElement.innerHTML = '';\n",
              "\n",
              "  const pickedPromise = new Promise((resolve) => {\n",
              "    inputElement.addEventListener('change', (e) => {\n",
              "      resolve(e.target.files);\n",
              "    });\n",
              "  });\n",
              "\n",
              "  const cancel = document.createElement('button');\n",
              "  inputElement.parentElement.appendChild(cancel);\n",
              "  cancel.textContent = 'Cancel upload';\n",
              "  const cancelPromise = new Promise((resolve) => {\n",
              "    cancel.onclick = () => {\n",
              "      resolve(null);\n",
              "    };\n",
              "  });\n",
              "\n",
              "  // Wait for the user to pick the files.\n",
              "  const files = yield {\n",
              "    promise: Promise.race([pickedPromise, cancelPromise]),\n",
              "    response: {\n",
              "      action: 'starting',\n",
              "    }\n",
              "  };\n",
              "\n",
              "  cancel.remove();\n",
              "\n",
              "  // Disable the input element since further picks are not allowed.\n",
              "  inputElement.disabled = true;\n",
              "\n",
              "  if (!files) {\n",
              "    return {\n",
              "      response: {\n",
              "        action: 'complete',\n",
              "      }\n",
              "    };\n",
              "  }\n",
              "\n",
              "  for (const file of files) {\n",
              "    const li = document.createElement('li');\n",
              "    li.append(span(file.name, {fontWeight: 'bold'}));\n",
              "    li.append(span(\n",
              "        `(${file.type || 'n/a'}) - ${file.size} bytes, ` +\n",
              "        `last modified: ${\n",
              "            file.lastModifiedDate ? file.lastModifiedDate.toLocaleDateString() :\n",
              "                                    'n/a'} - `));\n",
              "    const percent = span('0% done');\n",
              "    li.appendChild(percent);\n",
              "\n",
              "    outputElement.appendChild(li);\n",
              "\n",
              "    const fileDataPromise = new Promise((resolve) => {\n",
              "      const reader = new FileReader();\n",
              "      reader.onload = (e) => {\n",
              "        resolve(e.target.result);\n",
              "      };\n",
              "      reader.readAsArrayBuffer(file);\n",
              "    });\n",
              "    // Wait for the data to be ready.\n",
              "    let fileData = yield {\n",
              "      promise: fileDataPromise,\n",
              "      response: {\n",
              "        action: 'continue',\n",
              "      }\n",
              "    };\n",
              "\n",
              "    // Use a chunked sending to avoid message size limits. See b/62115660.\n",
              "    let position = 0;\n",
              "    do {\n",
              "      const length = Math.min(fileData.byteLength - position, MAX_PAYLOAD_SIZE);\n",
              "      const chunk = new Uint8Array(fileData, position, length);\n",
              "      position += length;\n",
              "\n",
              "      const base64 = btoa(String.fromCharCode.apply(null, chunk));\n",
              "      yield {\n",
              "        response: {\n",
              "          action: 'append',\n",
              "          file: file.name,\n",
              "          data: base64,\n",
              "        },\n",
              "      };\n",
              "\n",
              "      let percentDone = fileData.byteLength === 0 ?\n",
              "          100 :\n",
              "          Math.round((position / fileData.byteLength) * 100);\n",
              "      percent.textContent = `${percentDone}% done`;\n",
              "\n",
              "    } while (position < fileData.byteLength);\n",
              "  }\n",
              "\n",
              "  // All done.\n",
              "  yield {\n",
              "    response: {\n",
              "      action: 'complete',\n",
              "    }\n",
              "  };\n",
              "}\n",
              "\n",
              "scope.google = scope.google || {};\n",
              "scope.google.colab = scope.google.colab || {};\n",
              "scope.google.colab._files = {\n",
              "  _uploadFiles,\n",
              "  _uploadFilesContinue,\n",
              "};\n",
              "})(self);\n",
              "</script> "
            ]
          },
          "metadata": {}
        },
        {
          "output_type": "stream",
          "name": "stdout",
          "text": [
            "Saving kaggle.json to kaggle.json\n"
          ]
        },
        {
          "output_type": "execute_result",
          "data": {
            "text/plain": [
              "{'kaggle.json': b'{\"username\":\"sairabano11\",\"key\":\"67f7d47489d2714080e5e2695886c991\"}'}"
            ]
          },
          "metadata": {},
          "execution_count": 3
        }
      ]
    },
    {
      "cell_type": "code",
      "source": [
        "\n",
        "#create a kaggle folder\n",
        "! mkdir ~/.kaggle\n"
      ],
      "metadata": {
        "id": "CRm-tONh8bw2"
      },
      "execution_count": null,
      "outputs": []
    },
    {
      "cell_type": "code",
      "source": [
        "\n",
        "# open the  kaggle json to folder created\n",
        "! cp kaggle.json ~/.kaggle/\n"
      ],
      "metadata": {
        "id": "oRSCpatp8gqg"
      },
      "execution_count": null,
      "outputs": []
    },
    {
      "cell_type": "code",
      "source": [
        "# grant permission to json file to act\n",
        "! chmod 100 ~/.kaggle/kaggle.json\n"
      ],
      "metadata": {
        "id": "UsGi34tP8lSs"
      },
      "execution_count": null,
      "outputs": []
    },
    {
      "cell_type": "code",
      "source": [
        "# to list all the data set in kaggle\n",
        "! kaggle datasets list\n"
      ],
      "metadata": {
        "colab": {
          "base_uri": "https://localhost:8080/"
        },
        "id": "u-1Q6sRR8qjk",
        "outputId": "c28fa303-92ba-41cf-fe18-83e74bc8cb35"
      },
      "execution_count": null,
      "outputs": [
        {
          "output_type": "stream",
          "name": "stdout",
          "text": [
            "ref                                                              title                                                size  lastUpdated          downloadCount  voteCount  usabilityRating  \n",
            "---------------------------------------------------------------  --------------------------------------------------  -----  -------------------  -------------  ---------  ---------------  \n",
            "lainguyn123/student-performance-factors                          Student Performance Factors                          94KB  2024-09-02 10:53:57           8855        193  1.0              \n",
            "prokshitha/home-value-insights                                   House Price Regression Dataset                       26KB  2024-09-06 15:15:12           1087         33  1.0              \n",
            "hanaksoy/customer-purchasing-behaviors                           Customer Purchasing Behaviors                         1KB  2024-09-01 22:18:07           4573         64  1.0              \n",
            "hanaksoy/health-and-sleep-statistics                             Health and sleep statistics                           1KB  2024-09-09 16:08:44           1784         29  1.0              \n",
            "ironwolf404/laptop-price-dataset                                 Laptop Price - dataset                               25KB  2024-09-02 18:11:19           1761         27  1.0              \n",
            "haseebindata/student-performance-predictions                     Student Performance Predictions                       9KB  2024-08-17 06:57:57          12632        266  0.9411765        \n",
            "abdullah0a/retail-sales-data-with-seasonal-trends-and-marketing  Retail Sales Data with Seasonal Trends & Marketing  610KB  2024-09-18 16:15:46           2628         47  0.8235294        \n",
            "muhammadehsan02/top-1000-wealthiest-people-in-the-world          Top 1000 Wealthiest People in the World               8KB  2024-09-01 17:29:49            997         22  1.0              \n",
            "computingvictor/2024-academic-ranking-of-world-universities      🥇 Top Universities Ranking 2024                      19KB  2024-08-20 11:54:54           2532         45  1.0              \n",
            "alicemtopcu/top-1500-games-on-steam-by-revenue-09-09-2024        Top 1500 games on steam by revenue  09-09-2024       83KB  2024-09-11 10:12:35            580         22  1.0              \n",
            "waqi786/climate-change-impact-on-agriculture                     🌍 Climate Change Impact on Agriculture 🌱            327KB  2024-09-06 13:25:59           2463         45  1.0              \n",
            "uom190346a/ai-powered-job-market-insights                        AI-Powered Job Market Insights                       10KB  2024-08-26 05:55:43           4870         87  1.0              \n",
            "mrmars1010/restaurants-dataset-bengaluru                         Bengaluru Restaurants dataset                       792KB  2024-09-16 10:02:28            329         27  1.0              \n",
            "suvroo/amazon-ml-challenge                                       Amazon ML Challenge 2024 Dataset                      5MB  2024-09-13 10:54:18            277         64  0.88235295       \n",
            "sudhanvahg/wind-turbine-power-generation-forecasting             Wind Turbine Power Generation Forecasting             4MB  2024-09-16 11:19:37            519         25  1.0              \n",
            "muhammadehsan02/126-years-of-historical-olympic-dataset          126 Years of Historical Olympic Dataset              27MB  2024-08-27 12:51:57           2063         46  1.0              \n",
            "jocelyndumlao/chatbots-impact-on-university-learning             Chatbots'  Impact on University Learning            599KB  2024-09-02 09:51:49            915         30  1.0              \n",
            "abdullah0a/urban-air-quality-and-health-impact-dataset           Urban Air Quality and Health Impact Analysis        254KB  2024-09-07 18:29:41           1463         27  1.0              \n",
            "iamtapendu/crop-production-data-india                            Crop Production Data India                            2MB  2024-08-30 04:58:46            773         22  0.8235294        \n",
            "owm4096/laptop-prices                                            Laptop Prices                                        25KB  2024-09-09 12:43:01           1183         22  1.0              \n"
          ]
        }
      ]
    },
    {
      "cell_type": "code",
      "source": [
        "\n",
        "#go to the kaggle and then data get a link from there and paste\n",
        "!kaggle datasets download -d samps74/e-commerce-customer-behavior-dataset\n"
      ],
      "metadata": {
        "colab": {
          "base_uri": "https://localhost:8080/"
        },
        "id": "6EbZSJsf8wTh",
        "outputId": "fae9ee0d-e7c4-4ab3-928d-abb05e979d7e"
      },
      "execution_count": null,
      "outputs": [
        {
          "output_type": "stream",
          "name": "stdout",
          "text": [
            "Dataset URL: https://www.kaggle.com/datasets/samps74/e-commerce-customer-behavior-dataset\n",
            "License(s): Attribution 4.0 International (CC BY 4.0)\n",
            "Downloading e-commerce-customer-behavior-dataset.zip to /content\n",
            "  0% 0.00/3.33k [00:00<?, ?B/s]\n",
            "100% 3.33k/3.33k [00:00<00:00, 8.21MB/s]\n"
          ]
        }
      ]
    },
    {
      "cell_type": "code",
      "source": [
        "\n",
        "#unzip the files:\n",
        "! unzip e-commerce-customer-behavior-dataset\n"
      ],
      "metadata": {
        "colab": {
          "base_uri": "https://localhost:8080/"
        },
        "id": "ZEZy26PQ80zm",
        "outputId": "cf72c56b-0266-46f8-a8ed-632846b0aaf9"
      },
      "execution_count": null,
      "outputs": [
        {
          "output_type": "stream",
          "name": "stdout",
          "text": [
            "Archive:  e-commerce-customer-behavior-dataset.zip\n",
            "  inflating: E-commerce.csv          \n"
          ]
        }
      ]
    },
    {
      "cell_type": "code",
      "source": [
        "import pandas as pd"
      ],
      "metadata": {
        "id": "sYSed3nz9ANq"
      },
      "execution_count": null,
      "outputs": []
    },
    {
      "cell_type": "code",
      "source": [
        "df = pd.read_csv('E-commerce.csv')\n",
        "print(df)\n"
      ],
      "metadata": {
        "colab": {
          "base_uri": "https://localhost:8080/"
        },
        "id": "ExObTSnn9FLh",
        "outputId": "5828b649-5bee-41ca-f004-29679e694281"
      },
      "execution_count": null,
      "outputs": [
        {
          "output_type": "stream",
          "name": "stdout",
          "text": [
            "    Customer ID  Age  Gender Location  Annual Income  \\\n",
            "0          1001   25  Female   City D          45000   \n",
            "1          1001   28  Female   City D          52000   \n",
            "2          1001   28  Female   City D          65000   \n",
            "3          1001   45  Female   City D          70000   \n",
            "4          1002   34    Male   City E          45000   \n",
            "5          1003   56   Other   City F          90000   \n",
            "6          1004   29  Female   City G          60000   \n",
            "7          1005   42    Male   City H          75000   \n",
            "8          1006   51   Other   City I          85000   \n",
            "9          1007   36  Female   City J          55000   \n",
            "10         1008   48    Male   City K          80000   \n",
            "11         1009   25   Other   City L          40000   \n",
            "12         1001   45  Female   City D          75000   \n",
            "13         1002   32    Male   City A          50000   \n",
            "14         1003   60   Other   City B          80000   \n",
            "15         1004   28  Female   City C          45000   \n",
            "16         1005   55    Male   City E          90000   \n",
            "17         1006   38  Female   City F          65000   \n",
            "18         1007   42    Male   City G          70000   \n",
            "19         1008   50  Female   City H          85000   \n",
            "20         1009   35    Male   City I          55000   \n",
            "21         1010   48  Female   City J          75000   \n",
            "22         1011   30    Male   City K          40000   \n",
            "23         1012   65  Female   City L          95000   \n",
            "24         1001   24  Female   City D          45000   \n",
            "25         1001   35  Female   City D          50000   \n",
            "26         1002   45    Male   City E          80000   \n",
            "27         1003   28  Female   City F          60000   \n",
            "28         1004   52    Male   City G          70000   \n",
            "29         1005   31  Female   City H          45000   \n",
            "30         1006   48    Male   City I          90000   \n",
            "31         1007   60  Female   City J          65000   \n",
            "32         1008   55    Male   City K          85000   \n",
            "33         1009   29  Female   City L          40000   \n",
            "34         1010   58    Male   City M          75000   \n",
            "35         1011   36  Female   City N          55000   \n",
            "36         1012   42    Male   City O          95000   \n",
            "37         1013   50  Female   City P          68000   \n",
            "38         1001   32  Female   City D          65000   \n",
            "39         1001   35  Female   City D          60000   \n",
            "40         1002   42    Male   City E          75000   \n",
            "41         1001   32  Female   City D          55000   \n",
            "42         1001   28  Female   City D          65000   \n",
            "43         1002   42    Male   City E          80000   \n",
            "44         1003   35   Other   City F          50000   \n",
            "45         1004   52  Female   City G         100000   \n",
            "46         1005   24    Male   City H          45000   \n",
            "47         1001   34  Female   City D          55000   \n",
            "48         1002   45    Male   City E          87000   \n",
            "49         1003   29   Other   City F          42000   \n",
            "\n",
            "                                     Purchase History  \\\n",
            "0   [{\"Date\": \"2022-03-05\", \"Category\": \"Clothing\"...   \n",
            "1   [{\"Product Category\": \"Clothing\", \"Purchase Da...   \n",
            "2   [{\"Product Category\": \"Electronics\", \"Purchase...   \n",
            "3   {'Purchase Date': '2022-08-15', 'Product Categ...   \n",
            "4   {'Purchase Date': '2022-07-25', 'Product Categ...   \n",
            "5   {'Purchase Date': '2022-09-01', 'Product Categ...   \n",
            "6   {'Purchase Date': '2022-07-20', 'Product Categ...   \n",
            "7   {'Purchase Date': '2022-08-28', 'Product Categ...   \n",
            "8   {'Purchase Date': '2022-09-05', 'Product Categ...   \n",
            "9   {'Purchase Date': '2022-07-27', 'Product Categ...   \n",
            "10  {'Purchase Date': '2022-09-08', 'Product Categ...   \n",
            "11  {'Purchase Date': '2022-08-25', 'Product Categ...   \n",
            "12  {'Purchase Date': '2022-03-05', 'Product Categ...   \n",
            "13  {'Purchase Date': '2022-02-15', 'Product Categ...   \n",
            "14  {'Purchase Date': '2022-01-18', 'Product Categ...   \n",
            "15  {'Purchase Date': '2022-04-25', 'Product Categ...   \n",
            "16  {'Purchase Date': '2022-05-20', 'Product Categ...   \n",
            "17  {'Purchase Date': '2022-06-15', 'Product Categ...   \n",
            "18  {'Purchase Date': '2022-07-22', 'Product Categ...   \n",
            "19  {'Purchase Date': '2022-08-08', 'Product Categ...   \n",
            "20  {'Purchase Date': '2022-09-20', 'Product Categ...   \n",
            "21  {'Purchase Date': '2022-10-15', 'Product Categ...   \n",
            "22  {'Purchase Date': '2022-11-05', 'Product Categ...   \n",
            "23  {'Purchase Date': '2022-12-25', 'Product Categ...   \n",
            "24  [{\"Purchase Date\": \"2022-09-15\", \"Product Cate...   \n",
            "25  {'Purchase Date': '2022-05-15', 'Product Categ...   \n",
            "26  {'Purchase Date': '2022-06-12', 'Product Categ...   \n",
            "27  {'Purchase Date': '2022-05-28', 'Product Categ...   \n",
            "28  {'Purchase Date': '2022-05-08', 'Product Categ...   \n",
            "29  {'Purchase Date': '2022-05-18', 'Product Categ...   \n",
            "30  {'Purchase Date': '2022-05-23', 'Product Categ...   \n",
            "31  {'Purchase Date': '2022-05-25', 'Product Categ...   \n",
            "32  {'Purchase Date': '2022-05-20', 'Product Categ...   \n",
            "33  {'Purchase Date': '2022-05-16', 'Product Categ...   \n",
            "34  {'Purchase Date': '2022-05-12', 'Product Categ...   \n",
            "35  {'Purchase Date': '2022-05-27', 'Product Categ...   \n",
            "36  {'Purchase Date': '2022-05-22', 'Product Categ...   \n",
            "37  {'Purchase Date': '2022-05-19', 'Product Categ...   \n",
            "38  [{\"Product Category\": \"Clothing\", \"Purchase Da...   \n",
            "39  [{\"Product Category\": \"Electronics\", \"Purchase...   \n",
            "40  [{\"Product Category\": \"Clothing\", \"Purchase Da...   \n",
            "41  [{\"Product Category\": \"Electronics\", \"Purchase...   \n",
            "42  [{\"Product Category\": \"Clothing\", \"Purchase Da...   \n",
            "43  [{\"Product Category\": \"Electronics\", \"Purchase...   \n",
            "44  [{\"Product Category\": \"Clothing\", \"Purchase Da...   \n",
            "45  [{\"Product Category\": \"Clothing\", \"Purchase Da...   \n",
            "46  [{\"Product Category\": \"Electronics\", \"Purchase...   \n",
            "47  [{\"Purchase Date\": \"2022-07-02\",\"Product Categ...   \n",
            "48  [{\"Purchase Date\": \"2022-07-08\",\"Product Categ...   \n",
            "49  [{\"Purchase Date\": \"2022-07-01\",\"Product Categ...   \n",
            "\n",
            "                                     Browsing History  \\\n",
            "0   [{\"Timestamp\": \"2022-03-10T14:30:00Z\"}, {\"Time...   \n",
            "1   [{\"Product Category\": \"Home & Garden\", \"Timest...   \n",
            "2   [{\"Product Category\": \"Clothing\", \"Timestamp\":...   \n",
            "3                {'Timestamp': '2022-09-03 14:30:00'}   \n",
            "4                {'Timestamp': '2022-08-10 17:15:00'}   \n",
            "5                {'Timestamp': '2022-06-25 10:45:00'}   \n",
            "6                {'Timestamp': '2022-08-15 13:20:00'}   \n",
            "7                {'Timestamp': '2022-09-12 16:35:00'}   \n",
            "8                {'Timestamp': '2022-06-28 09:00:00'}   \n",
            "9                {'Timestamp': '2022-08-17 14:50:00'}   \n",
            "10               {'Timestamp': '2022-06-30 11:15:00'}   \n",
            "11               {'Timestamp': '2022-09-14 10:00:00'}   \n",
            "12               {'Timestamp': '2022-03-06 14:30:00'}   \n",
            "13               {'Timestamp': '2022-05-12 16:15:00'}   \n",
            "14               {'Timestamp': '2022-06-03 10:45:00'}   \n",
            "15               {'Timestamp': '2022-07-08 13:00:00'}   \n",
            "16               {'Timestamp': '2022-08-04 09:30:00'}   \n",
            "17               {'Timestamp': '2022-09-02 11:15:00'}   \n",
            "18               {'Timestamp': '2022-10-07 14:45:00'}   \n",
            "19               {'Timestamp': '2022-11-02 10:30:00'}   \n",
            "20               {'Timestamp': '2022-12-06 12:00:00'}   \n",
            "21               {'Timestamp': '2022-12-21 15:30:00'}   \n",
            "22               {'Timestamp': '2023-01-11 08:45:00'}   \n",
            "23               {'Timestamp': '2023-02-06 13:15:00'}   \n",
            "24  [{\"Timestamp\": \"2022-08-20T14:30:00Z\"}, {\"Time...   \n",
            "25              {'Timestamp': '2022-04-20T14:30:00Z'}   \n",
            "26              {'Timestamp': '2022-05-25T17:45:00Z'}   \n",
            "27              {'Timestamp': '2022-06-01T09:15:00Z'}   \n",
            "28              {'Timestamp': '2022-05-22T10:30:00Z'}   \n",
            "29              {'Timestamp': '2022-05-30T13:45:00Z'}   \n",
            "30              {'Timestamp': '2022-06-06T08:00:00Z'}   \n",
            "31              {'Timestamp': '2022-06-15T11:30:00Z'}   \n",
            "32              {'Timestamp': '2022-05-28T15:15:00Z'}   \n",
            "33              {'Timestamp': '2022-05-31T16:45:00Z'}   \n",
            "34              {'Timestamp': '2022-05-29T10:30:00Z'}   \n",
            "35              {'Timestamp': '2022-06-13T13:00:00Z'}   \n",
            "36              {'Timestamp': '2022-05-26T11:15:00Z'}   \n",
            "37              {'Timestamp': '2022-06-08T14:30:00Z'}   \n",
            "38  [{\"Product Category\": \"Home & Garden\", \"Timest...   \n",
            "39  [{\"Product Category\": \"Home & Garden\", \"Timest...   \n",
            "40  [{\"Product Category\": \"Electronics\", \"Timestam...   \n",
            "41  [{\"Product Category\": \"Home & Garden\", \"Timest...   \n",
            "42  [{\"Product Category\": \"Home & Garden\", \"Timest...   \n",
            "43  [{\"Product Category\": \"Clothing\", \"Timestamp\":...   \n",
            "44  [{\"Product Category\": \"Home & Garden\", \"Timest...   \n",
            "45  [{\"Product Category\": \"Electronics\", \"Timestam...   \n",
            "46  [{\"Product Category\": \"Clothing\", \"Timestamp\":...   \n",
            "47  [{\"Timestamp\": \"2022-08-14T09:30:00Z\"},{\"Times...   \n",
            "48  [{\"Timestamp\": \"2022-08-12T16:00:00Z\"},{\"Times...   \n",
            "49  [{\"Timestamp\": \"2022-08-13T13:45:00Z\"},{\"Times...   \n",
            "\n",
            "                                      Product Reviews  Time on Site  \n",
            "0   Great pair of jeans, very comfortable. Rating:...         32.50  \n",
            "1                             Great customer service!        123.45  \n",
            "2   Great electronics. The sound quality is excell...        125.60  \n",
            "3   {\"Product 1\": {\"Rating\": 4, \"Review\": \"Great e...        327.60  \n",
            "4   {\"Product 1\": {\"Rating\": 3, \"Review\": \"Good pr...        214.90  \n",
            "5   {\"Product 1\": {\"Rating\": 5, \"Review\": \"Awesome...        486.30  \n",
            "6   {\"Product 1\": {\"Rating\": 4, \"Review\": \"Great p...        378.50  \n",
            "7   {\"Product 1\": {\"Rating\": 3, \"Review\": \"Good pr...        289.80  \n",
            "8   {\"Product 1\": {\"Rating\": 5, \"Review\": \"Outstan...        456.20  \n",
            "9   {\"Product 1\": {\"Rating\": 4, \"Review\": \"Good pr...        334.90  \n",
            "10  {\"Product 1\": {\"Rating\": 3, \"Review\": \"Good pr...        298.60  \n",
            "11  {\"Product 1\": {\"Rating\": 4, \"Review\": \"Great p...        312.50  \n",
            "12  {\"Review Text\": \"Great quality clothes!\", \"Rat...        120.00  \n",
            "13  {\"Review Text\": \"Good product, but could be ch...         75.00  \n",
            "14  {\"Review Text\": \"Very satisfied with my purcha...        200.00  \n",
            "15  {\"Review Text\": \"Not what I expected.\", \"Ratin...        150.00  \n",
            "16  {\"Review Text\": \"Excellent product, highly rec...        300.00  \n",
            "17  {\"Review Text\": \"Awesome purchase!\", \"Rating\": 5}        250.00  \n",
            "18  {\"Review Text\": \"Good product, but not worth t...        180.00  \n",
            "19  {\"Review Text\": \"Great product, highly recomme...        280.00  \n",
            "20  {\"Review Text\": \"Satisfied with my purchase!\",...        220.00  \n",
            "21  {\"Review Text\": \"Excellent product, highly rec...        200.00  \n",
            "22  {\"Review Text\": \"Good product, but could be be...        160.00  \n",
            "23  {\"Review Text\": \"Excellent product, highly rec...        240.00  \n",
            "24  This dress is amazing! I love the color and fi...        120.50  \n",
            "25  The blouse is so comfortable and stylish. 5 st...        120.00  \n",
            "26  The headphones are great. Sound quality is exc...        300.00  \n",
            "27      The dress fits perfectly. I love it. 5 stars!        250.00  \n",
            "28           The vacuum cleaner works great. 4 stars.        350.00  \n",
            "29  The top is nice, but the size is a bit small. ...        200.00  \n",
            "30                   The phone is fantastic. 5 stars!        400.00  \n",
            "31                 The shirt is comfortable. 4 stars.        300.00  \n",
            "32                  The laptop is excellent. 5 stars!        450.00  \n",
            "33              The shoes are comfortable. 4.5 stars.        250.00  \n",
            "34                The coffee maker is great. 5 stars!        350.00  \n",
            "35                    The skirt is lovely. 4.5 stars.        200.00  \n",
            "36                        The TV is amazing. 5 stars!        300.00  \n",
            "37               The bedding is comfortable. 4 stars.        250.00  \n",
            "38                                Great find! 5 stars         72.30  \n",
            "39        Great product, very happy with my purchase.        123.60  \n",
            "40  The product arrived quickly and in great condi...        246.90  \n",
            "41        Great headphones, sound quality is amazing.         75.20  \n",
            "42  Great purchase! The shoes are so comfortable a...        120.50  \n",
            "43  I'm really happy with my new phone. The batter...        250.00  \n",
            "44  The headphones are amazing! The sound quality ...         75.00  \n",
            "45  I love my new kitchen gadget! It's so efficien...        300.00  \n",
            "46  The laptop is perfect for my needs. It's light...        100.00  \n",
            "47  The clothing arrived quickly and fits great! 5...        120.00  \n",
            "48  The electronics were excellent quality and arr...        350.00  \n",
            "49  The electronics were as described and arrived ...        200.00  \n"
          ]
        }
      ]
    },
    {
      "cell_type": "code",
      "source": [
        "print(pd.options.display.max_rows)"
      ],
      "metadata": {
        "colab": {
          "base_uri": "https://localhost:8080/"
        },
        "id": "ovdSSbnr9QVS",
        "outputId": "d1fc1550-34d9-4ca8-8742-deabf2698f4b"
      },
      "execution_count": null,
      "outputs": [
        {
          "output_type": "stream",
          "name": "stdout",
          "text": [
            "60\n"
          ]
        }
      ]
    }
  ]
}