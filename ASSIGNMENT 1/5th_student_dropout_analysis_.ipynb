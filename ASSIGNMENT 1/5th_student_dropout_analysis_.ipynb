{
  "nbformat": 4,
  "nbformat_minor": 0,
  "metadata": {
    "colab": {
      "provenance": []
    },
    "kernelspec": {
      "name": "python3",
      "display_name": "Python 3"
    },
    "language_info": {
      "name": "python"
    }
  },
  "cells": [
    {
      "cell_type": "code",
      "execution_count": null,
      "metadata": {
        "id": "khzVf5T_26QP"
      },
      "outputs": [],
      "source": [
        "#install kaggl\n",
        "!pip install -q kaggle\n"
      ]
    },
    {
      "cell_type": "code",
      "source": [
        "from google.colab import files\n",
        "files.upload()\n"
      ],
      "metadata": {
        "colab": {
          "base_uri": "https://localhost:8080/",
          "height": 90
        },
        "id": "g5CLT1153OwL",
        "outputId": "2aa03a28-98a1-4997-9d8d-4ffd8fe5f18f"
      },
      "execution_count": null,
      "outputs": [
        {
          "output_type": "display_data",
          "data": {
            "text/plain": [
              "<IPython.core.display.HTML object>"
            ],
            "text/html": [
              "\n",
              "     <input type=\"file\" id=\"files-20dbf644-33b1-4273-8758-d3f77e9dfc20\" name=\"files[]\" multiple disabled\n",
              "        style=\"border:none\" />\n",
              "     <output id=\"result-20dbf644-33b1-4273-8758-d3f77e9dfc20\">\n",
              "      Upload widget is only available when the cell has been executed in the\n",
              "      current browser session. Please rerun this cell to enable.\n",
              "      </output>\n",
              "      <script>// Copyright 2017 Google LLC\n",
              "//\n",
              "// Licensed under the Apache License, Version 2.0 (the \"License\");\n",
              "// you may not use this file except in compliance with the License.\n",
              "// You may obtain a copy of the License at\n",
              "//\n",
              "//      http://www.apache.org/licenses/LICENSE-2.0\n",
              "//\n",
              "// Unless required by applicable law or agreed to in writing, software\n",
              "// distributed under the License is distributed on an \"AS IS\" BASIS,\n",
              "// WITHOUT WARRANTIES OR CONDITIONS OF ANY KIND, either express or implied.\n",
              "// See the License for the specific language governing permissions and\n",
              "// limitations under the License.\n",
              "\n",
              "/**\n",
              " * @fileoverview Helpers for google.colab Python module.\n",
              " */\n",
              "(function(scope) {\n",
              "function span(text, styleAttributes = {}) {\n",
              "  const element = document.createElement('span');\n",
              "  element.textContent = text;\n",
              "  for (const key of Object.keys(styleAttributes)) {\n",
              "    element.style[key] = styleAttributes[key];\n",
              "  }\n",
              "  return element;\n",
              "}\n",
              "\n",
              "// Max number of bytes which will be uploaded at a time.\n",
              "const MAX_PAYLOAD_SIZE = 100 * 1024;\n",
              "\n",
              "function _uploadFiles(inputId, outputId) {\n",
              "  const steps = uploadFilesStep(inputId, outputId);\n",
              "  const outputElement = document.getElementById(outputId);\n",
              "  // Cache steps on the outputElement to make it available for the next call\n",
              "  // to uploadFilesContinue from Python.\n",
              "  outputElement.steps = steps;\n",
              "\n",
              "  return _uploadFilesContinue(outputId);\n",
              "}\n",
              "\n",
              "// This is roughly an async generator (not supported in the browser yet),\n",
              "// where there are multiple asynchronous steps and the Python side is going\n",
              "// to poll for completion of each step.\n",
              "// This uses a Promise to block the python side on completion of each step,\n",
              "// then passes the result of the previous step as the input to the next step.\n",
              "function _uploadFilesContinue(outputId) {\n",
              "  const outputElement = document.getElementById(outputId);\n",
              "  const steps = outputElement.steps;\n",
              "\n",
              "  const next = steps.next(outputElement.lastPromiseValue);\n",
              "  return Promise.resolve(next.value.promise).then((value) => {\n",
              "    // Cache the last promise value to make it available to the next\n",
              "    // step of the generator.\n",
              "    outputElement.lastPromiseValue = value;\n",
              "    return next.value.response;\n",
              "  });\n",
              "}\n",
              "\n",
              "/**\n",
              " * Generator function which is called between each async step of the upload\n",
              " * process.\n",
              " * @param {string} inputId Element ID of the input file picker element.\n",
              " * @param {string} outputId Element ID of the output display.\n",
              " * @return {!Iterable<!Object>} Iterable of next steps.\n",
              " */\n",
              "function* uploadFilesStep(inputId, outputId) {\n",
              "  const inputElement = document.getElementById(inputId);\n",
              "  inputElement.disabled = false;\n",
              "\n",
              "  const outputElement = document.getElementById(outputId);\n",
              "  outputElement.innerHTML = '';\n",
              "\n",
              "  const pickedPromise = new Promise((resolve) => {\n",
              "    inputElement.addEventListener('change', (e) => {\n",
              "      resolve(e.target.files);\n",
              "    });\n",
              "  });\n",
              "\n",
              "  const cancel = document.createElement('button');\n",
              "  inputElement.parentElement.appendChild(cancel);\n",
              "  cancel.textContent = 'Cancel upload';\n",
              "  const cancelPromise = new Promise((resolve) => {\n",
              "    cancel.onclick = () => {\n",
              "      resolve(null);\n",
              "    };\n",
              "  });\n",
              "\n",
              "  // Wait for the user to pick the files.\n",
              "  const files = yield {\n",
              "    promise: Promise.race([pickedPromise, cancelPromise]),\n",
              "    response: {\n",
              "      action: 'starting',\n",
              "    }\n",
              "  };\n",
              "\n",
              "  cancel.remove();\n",
              "\n",
              "  // Disable the input element since further picks are not allowed.\n",
              "  inputElement.disabled = true;\n",
              "\n",
              "  if (!files) {\n",
              "    return {\n",
              "      response: {\n",
              "        action: 'complete',\n",
              "      }\n",
              "    };\n",
              "  }\n",
              "\n",
              "  for (const file of files) {\n",
              "    const li = document.createElement('li');\n",
              "    li.append(span(file.name, {fontWeight: 'bold'}));\n",
              "    li.append(span(\n",
              "        `(${file.type || 'n/a'}) - ${file.size} bytes, ` +\n",
              "        `last modified: ${\n",
              "            file.lastModifiedDate ? file.lastModifiedDate.toLocaleDateString() :\n",
              "                                    'n/a'} - `));\n",
              "    const percent = span('0% done');\n",
              "    li.appendChild(percent);\n",
              "\n",
              "    outputElement.appendChild(li);\n",
              "\n",
              "    const fileDataPromise = new Promise((resolve) => {\n",
              "      const reader = new FileReader();\n",
              "      reader.onload = (e) => {\n",
              "        resolve(e.target.result);\n",
              "      };\n",
              "      reader.readAsArrayBuffer(file);\n",
              "    });\n",
              "    // Wait for the data to be ready.\n",
              "    let fileData = yield {\n",
              "      promise: fileDataPromise,\n",
              "      response: {\n",
              "        action: 'continue',\n",
              "      }\n",
              "    };\n",
              "\n",
              "    // Use a chunked sending to avoid message size limits. See b/62115660.\n",
              "    let position = 0;\n",
              "    do {\n",
              "      const length = Math.min(fileData.byteLength - position, MAX_PAYLOAD_SIZE);\n",
              "      const chunk = new Uint8Array(fileData, position, length);\n",
              "      position += length;\n",
              "\n",
              "      const base64 = btoa(String.fromCharCode.apply(null, chunk));\n",
              "      yield {\n",
              "        response: {\n",
              "          action: 'append',\n",
              "          file: file.name,\n",
              "          data: base64,\n",
              "        },\n",
              "      };\n",
              "\n",
              "      let percentDone = fileData.byteLength === 0 ?\n",
              "          100 :\n",
              "          Math.round((position / fileData.byteLength) * 100);\n",
              "      percent.textContent = `${percentDone}% done`;\n",
              "\n",
              "    } while (position < fileData.byteLength);\n",
              "  }\n",
              "\n",
              "  // All done.\n",
              "  yield {\n",
              "    response: {\n",
              "      action: 'complete',\n",
              "    }\n",
              "  };\n",
              "}\n",
              "\n",
              "scope.google = scope.google || {};\n",
              "scope.google.colab = scope.google.colab || {};\n",
              "scope.google.colab._files = {\n",
              "  _uploadFiles,\n",
              "  _uploadFilesContinue,\n",
              "};\n",
              "})(self);\n",
              "</script> "
            ]
          },
          "metadata": {}
        },
        {
          "output_type": "stream",
          "name": "stdout",
          "text": [
            "Saving kaggle.json to kaggle.json\n"
          ]
        },
        {
          "output_type": "execute_result",
          "data": {
            "text/plain": [
              "{'kaggle.json': b'{\"username\":\"sairabano11\",\"key\":\"67f7d47489d2714080e5e2695886c991\"}'}"
            ]
          },
          "metadata": {},
          "execution_count": 2
        }
      ]
    },
    {
      "cell_type": "code",
      "source": [
        "#create a kaggle folder\n",
        "! mkdir ~/.kaggle\n",
        "\n"
      ],
      "metadata": {
        "id": "ktc2cXoU3Rkj"
      },
      "execution_count": null,
      "outputs": []
    },
    {
      "cell_type": "code",
      "source": [
        "# open the  kaggle json to folder created\n",
        "! cp kaggle.json ~/.kaggle/\n"
      ],
      "metadata": {
        "id": "HG3MTJi23ZLK"
      },
      "execution_count": null,
      "outputs": []
    },
    {
      "cell_type": "code",
      "source": [
        "# grant permission to json file to act\n",
        "! chmod 100 ~/.kaggle/kaggle.json\n"
      ],
      "metadata": {
        "id": "CkKHH1423eX-"
      },
      "execution_count": null,
      "outputs": []
    },
    {
      "cell_type": "code",
      "source": [
        "# to list all the data set in kaggle\n",
        "! kaggle datasets list\n"
      ],
      "metadata": {
        "colab": {
          "base_uri": "https://localhost:8080/"
        },
        "id": "uWMGbJbD3is8",
        "outputId": "df458ee1-fbee-4b26-c90c-8c476b8271c7"
      },
      "execution_count": null,
      "outputs": [
        {
          "output_type": "stream",
          "name": "stdout",
          "text": [
            "ref                                                              title                                                size  lastUpdated          downloadCount  voteCount  usabilityRating  \n",
            "---------------------------------------------------------------  --------------------------------------------------  -----  -------------------  -------------  ---------  ---------------  \n",
            "lainguyn123/student-performance-factors                          Student Performance Factors                          94KB  2024-09-02 10:53:57           8840        193  1.0              \n",
            "prokshitha/home-value-insights                                   House Price Regression Dataset                       26KB  2024-09-06 15:15:12           1079         33  1.0              \n",
            "hanaksoy/customer-purchasing-behaviors                           Customer Purchasing Behaviors                         1KB  2024-09-01 22:18:07           4567         64  1.0              \n",
            "hanaksoy/health-and-sleep-statistics                             Health and sleep statistics                           1KB  2024-09-09 16:08:44           1777         29  1.0              \n",
            "ironwolf404/laptop-price-dataset                                 Laptop Price - dataset                               25KB  2024-09-02 18:11:19           1758         27  1.0              \n",
            "haseebindata/student-performance-predictions                     Student Performance Predictions                       9KB  2024-08-17 06:57:57          12627        266  0.9411765        \n",
            "abdullah0a/retail-sales-data-with-seasonal-trends-and-marketing  Retail Sales Data with Seasonal Trends & Marketing  320KB  2024-09-09 07:02:46           2626         47  1.0              \n",
            "muhammadehsan02/top-1000-wealthiest-people-in-the-world          Top 1000 Wealthiest People in the World               8KB  2024-09-01 17:29:49            997         22  1.0              \n",
            "computingvictor/2024-academic-ranking-of-world-universities      🥇 Top Universities Ranking 2024                      19KB  2024-08-20 11:54:54           2529         45  1.0              \n",
            "alicemtopcu/top-1500-games-on-steam-by-revenue-09-09-2024        Top 1500 games on steam by revenue  09-09-2024       83KB  2024-09-11 10:12:35            580         22  1.0              \n",
            "waqi786/climate-change-impact-on-agriculture                     🌍 Climate Change Impact on Agriculture 🌱            327KB  2024-09-06 13:25:59           2459         45  1.0              \n",
            "uom190346a/ai-powered-job-market-insights                        AI-Powered Job Market Insights                       10KB  2024-08-26 05:55:43           4860         87  1.0              \n",
            "mrmars1010/restaurants-dataset-bengaluru                         Bengaluru Restaurants dataset                       792KB  2024-09-16 10:02:28            328         27  1.0              \n",
            "suvroo/amazon-ml-challenge                                       Amazon ML Challenge 2024 Dataset                      5MB  2024-09-13 10:54:18            277         64  0.88235295       \n",
            "sudhanvahg/wind-turbine-power-generation-forecasting             Wind Turbine Power Generation Forecasting             4MB  2024-09-16 11:19:37            519         25  1.0              \n",
            "muhammadehsan02/126-years-of-historical-olympic-dataset          126 Years of Historical Olympic Dataset              27MB  2024-08-27 12:51:57           2058         46  1.0              \n",
            "jocelyndumlao/chatbots-impact-on-university-learning             Chatbots'  Impact on University Learning            599KB  2024-09-02 09:51:49            915         30  1.0              \n",
            "abdullah0a/urban-air-quality-and-health-impact-dataset           Urban Air Quality and Health Impact Analysis        254KB  2024-09-07 18:29:41           1463         27  1.0              \n",
            "iamtapendu/crop-production-data-india                            Crop Production Data India                            2MB  2024-08-30 04:58:46            768         22  0.8235294        \n",
            "owm4096/laptop-prices                                            Laptop Prices                                        25KB  2024-09-09 12:43:01           1180         22  1.0              \n"
          ]
        }
      ]
    },
    {
      "cell_type": "code",
      "source": [
        "#go to the kaggle and then data get a link from there and paste\n",
        "!kaggle datasets download -d abdullah0a/student-dropout-analysis-and-prediction-dataset\n"
      ],
      "metadata": {
        "colab": {
          "base_uri": "https://localhost:8080/"
        },
        "id": "r9Hu55aS3ld7",
        "outputId": "d3c1819a-3f5a-43fd-c949-30cb34b19ab3"
      },
      "execution_count": null,
      "outputs": [
        {
          "output_type": "stream",
          "name": "stdout",
          "text": [
            "Dataset URL: https://www.kaggle.com/datasets/abdullah0a/student-dropout-analysis-and-prediction-dataset\n",
            "License(s): MIT\n",
            "Downloading student-dropout-analysis-and-prediction-dataset.zip to /content\n",
            "  0% 0.00/11.3k [00:00<?, ?B/s]\n",
            "100% 11.3k/11.3k [00:00<00:00, 24.7MB/s]\n"
          ]
        }
      ]
    },
    {
      "cell_type": "code",
      "source": [
        "\n",
        "#unzip the files:\n",
        "! unzip student-dropout-analysis-and-prediction-dataset\n"
      ],
      "metadata": {
        "colab": {
          "base_uri": "https://localhost:8080/"
        },
        "id": "o6xRpoih3oqV",
        "outputId": "f87892ac-1951-46ce-c00e-636855149cd0"
      },
      "execution_count": null,
      "outputs": [
        {
          "output_type": "stream",
          "name": "stdout",
          "text": [
            "Archive:  student-dropout-analysis-and-prediction-dataset.zip\n",
            "  inflating: student dropout.csv     \n"
          ]
        }
      ]
    },
    {
      "cell_type": "code",
      "source": [
        "import pandas as pd"
      ],
      "metadata": {
        "id": "moQQ9Uey3_Et"
      },
      "execution_count": null,
      "outputs": []
    },
    {
      "cell_type": "code",
      "source": [
        "df = pd.read_csv('student dropout.csv')\n",
        "print(df)\n"
      ],
      "metadata": {
        "colab": {
          "base_uri": "https://localhost:8080/"
        },
        "id": "q7oux2Da4Onm",
        "outputId": "d6be93fa-6595-457a-bf2c-e4c044364fe4"
      },
      "execution_count": null,
      "outputs": [
        {
          "output_type": "stream",
          "name": "stdout",
          "text": [
            "    School Gender  Age Address Family_Size Parental_Status  Mother_Education  \\\n",
            "0       GP      F   18       U         GT3               A                 4   \n",
            "1       GP      F   17       U         GT3               T                 1   \n",
            "2       GP      F   15       U         LE3               T                 1   \n",
            "3       GP      F   15       U         GT3               T                 4   \n",
            "4       GP      F   16       U         GT3               T                 3   \n",
            "..     ...    ...  ...     ...         ...             ...               ...   \n",
            "644     MS      F   19       R         GT3               T                 2   \n",
            "645     MS      F   18       U         LE3               T                 3   \n",
            "646     MS      F   18       U         GT3               T                 1   \n",
            "647     MS      M   17       U         LE3               T                 3   \n",
            "648     MS      M   18       R         LE3               T                 3   \n",
            "\n",
            "     Father_Education Mother_Job Father_Job  ... Free_Time Going_Out  \\\n",
            "0                   4    at_home    teacher  ...         3         4   \n",
            "1                   1    at_home      other  ...         3         3   \n",
            "2                   1    at_home      other  ...         3         2   \n",
            "3                   2     health   services  ...         2         2   \n",
            "4                   3      other      other  ...         3         2   \n",
            "..                ...        ...        ...  ...       ...       ...   \n",
            "644                 3   services      other  ...         4         2   \n",
            "645                 1    teacher   services  ...         3         4   \n",
            "646                 1      other      other  ...         1         1   \n",
            "647                 1   services   services  ...         4         5   \n",
            "648                 2   services      other  ...         4         1   \n",
            "\n",
            "     Weekend_Alcohol_Consumption  Weekday_Alcohol_Consumption  Health_Status  \\\n",
            "0                              1                            1              3   \n",
            "1                              1                            1              3   \n",
            "2                              2                            3              3   \n",
            "3                              1                            1              5   \n",
            "4                              1                            2              5   \n",
            "..                           ...                          ...            ...   \n",
            "644                            1                            2              5   \n",
            "645                            1                            1              1   \n",
            "646                            1                            1              5   \n",
            "647                            3                            4              2   \n",
            "648                            3                            4              5   \n",
            "\n",
            "    Number_of_Absences Grade_1 Grade_2 Final_Grade Dropped_Out  \n",
            "0                    4       0      11          11       False  \n",
            "1                    2       9      11          11       False  \n",
            "2                    6      12      13          12       False  \n",
            "3                    0      14      14          14       False  \n",
            "4                    0      11      13          13       False  \n",
            "..                 ...     ...     ...         ...         ...  \n",
            "644                  4      10      11          10       False  \n",
            "645                  4      15      15          16       False  \n",
            "646                  6      11      12           9        True  \n",
            "647                  6      10      10          10       False  \n",
            "648                  4      10      11          11       False  \n",
            "\n",
            "[649 rows x 34 columns]\n"
          ]
        }
      ]
    },
    {
      "cell_type": "code",
      "source": [
        "\n",
        "\n",
        "print(pd.options.display.max_rows)"
      ],
      "metadata": {
        "id": "g-XzCq2T54hq",
        "outputId": "b19d1419-3eac-4906-e1d9-fd73903740b9",
        "colab": {
          "base_uri": "https://localhost:8080/"
        }
      },
      "execution_count": null,
      "outputs": [
        {
          "output_type": "stream",
          "name": "stdout",
          "text": [
            "60\n"
          ]
        }
      ]
    }
  ]
}